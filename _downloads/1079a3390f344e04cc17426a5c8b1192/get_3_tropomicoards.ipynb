{
  "cells": [
    {
      "cell_type": "markdown",
      "metadata": {},
      "source": [
        "\n# Get COARDS formatted NetCDF TropOMI NO2\n\nShows how to get TropOMI as an xarray Dataset. This example downloads a NetCDF\nfile with COARDS compliant metadata, which is opened and returned.\n"
      ]
    },
    {
      "cell_type": "code",
      "execution_count": null,
      "metadata": {
        "collapsed": false
      },
      "outputs": [],
      "source": [
        "# sphinx_gallery_thumbnail_path = '_static/tropomicoards.png'\n\nimport pyrsig\n\nrsigapi = pyrsig.RsigApi(bdate='2022-03-01', overwrite=True)\nds = rsigapi.to_netcdf('tropomi.offl.no2.nitrogendioxide_tropospheric_column')\nprint(ds.data_vars)\n# Data variables:\n#     longitude                            (points) float32 ...\n#     latitude                             (points) float32 ...\n#     nitrogendioxide_tropospheric_column  (points) float32 ...\n#     Longitude_SW                         (points) float32 ...\n#     Longitude_SE                         (points) float32 ...\n#     Longitude_NW                         (points) float32 ...\n#     Longitude_NE                         (points) float32 ...\n#     Latitude_SW                          (points) float32 ...\n#     Latitude_SE                          (points) float32 ...\n#     Latitude_NW                          (points) float32 ...\n#     Latitude_NE                          (points) float32 ...\n#     yyyyddd                              (points) int32 ...\n#     hhmmss                               (points) int32 ...\n#     time                                 (points) datetime64[ns] ...\nrsigapi = pyrsig.RsigApi(bdate='2022-03-02', overwrite=True)\nds = rsigapi.to_netcdf(\n    'tropomi.offl.no2.nitrogendioxide_tropospheric_column', grid=True\n)\nprint(ds.data_vars)\n# Data variables:\n#     column     (points) int32 ...\n#     row        (points) int32 ...\n#     count      (points) int32 ...\n#     longitude  (points) float32 ...\n#     latitude   (points) float32 ...\n#     no2        (points) float32 ...\n#     time       (points) datetime64[ns] ..."
      ]
    }
  ],
  "metadata": {
    "kernelspec": {
      "display_name": "Python 3",
      "language": "python",
      "name": "python3"
    },
    "language_info": {
      "codemirror_mode": {
        "name": "ipython",
        "version": 3
      },
      "file_extension": ".py",
      "mimetype": "text/x-python",
      "name": "python",
      "nbconvert_exporter": "python",
      "pygments_lexer": "ipython3",
      "version": "3.12.8"
    }
  },
  "nbformat": 4,
  "nbformat_minor": 0
}