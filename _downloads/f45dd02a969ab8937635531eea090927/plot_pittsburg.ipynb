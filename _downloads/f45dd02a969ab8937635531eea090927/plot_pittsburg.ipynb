{
  "cells": [
    {
      "cell_type": "markdown",
      "metadata": {},
      "source": [
        "\n# Pittsburg Pandora vs TEMPO\n\nTimeseries comparison of NO2 from the Pittsburg Pandora\nduring unvalidated release 2023-12-17 to 2023-12-30.\n"
      ]
    },
    {
      "cell_type": "code",
      "execution_count": null,
      "metadata": {
        "collapsed": false
      },
      "outputs": [],
      "source": [
        "import matplotlib.pyplot as plt\nimport pyrsig\nimport pandas as pd\nimport os\n\n# Create an RSIG api isntance\n# Define a Time and Space Scope during unvalidated release around Pittsburg Pandora\nrsigapi = pyrsig.RsigApi(\n    bdate='2023-12-28T00', edate='2023-12-29T23:59:59',\n    bbox=(-80.0608, 40.3655, -79.8608, 40.5655), workdir='pitt'\n)\n\n# For the unvalidated data release, you do not need a key. To expand,\n# outside the release, use a key.\n# tkey = open(os.path.expandusrer('~/.tempokey'), 'r').read().strip()\napi_key = 'none'\nrsigapi.tempo_kw['api_key'] = api_key\n\n# Get Pandora NO2 with dates parsed and units removed from column names\npandorakey = 'pandora.L2_rnvs3p1_8.nitrogen_dioxide_vertical_column_amount'\npandoracol = 'nitrogen_dioxide_vertical_column_amount'\npadf = rsigapi.to_dataframe(\n    pandorakey, parse_dates=True, unit_keys=False, backend='xdr'\n)\n\n# Get TEMPO NO2\ntempokey = 'tempo.l2.no2.vertical_column_troposphere'\ntempocol = 'no2_vertical_column_troposphere'\ntempodf = rsigapi.to_dataframe(\n    tempokey, unit_keys=False, parse_dates=True, backend='xdr'\n)\n\n\n# Create spatial medians for TEMPO and Pandora\ngb = pd.Grouper(key='time', freq='1h')\ntempods = tempodf.groupby(gb).median(numeric_only=True)[tempocol]\ngb = pd.Grouper(key='time', freq='900s')\npads = padf.groupby(gb).median(numeric_only=True)[pandoracol]\n\n# Create axes with shared x\ngkw = dict(bottom=0.25, left=0.05, right=0.95)\nfig, ax = plt.subplots(figsize=(12, 4), gridspec_kw=gkw)\nax.tick_params(axis='x', labelrotation=90)\n\n# Add Pandora with markers at overpasses\nax.plot(pads.index.values, pads.values, color='k', label='Pandora (15min)')\n\n# Add TEMPO NO2\nax.plot(tempods.index.values, tempods.values, marker='s', color='r', label='TEMPO (w/in 0.1deg)')\n\n# Configure axes\nax.set(ylabel='NO2 [molecules/cm$^2$]')\nax.legend()\n\nplt.show()\n# Or save out figure\nfig.savefig('pitt.png')"
      ]
    }
  ],
  "metadata": {
    "kernelspec": {
      "display_name": "Python 3",
      "language": "python",
      "name": "python3"
    },
    "language_info": {
      "codemirror_mode": {
        "name": "ipython",
        "version": 3
      },
      "file_extension": ".py",
      "mimetype": "text/x-python",
      "name": "python",
      "nbconvert_exporter": "python",
      "pygments_lexer": "ipython3",
      "version": "3.12.8"
    }
  },
  "nbformat": 4,
  "nbformat_minor": 0
}