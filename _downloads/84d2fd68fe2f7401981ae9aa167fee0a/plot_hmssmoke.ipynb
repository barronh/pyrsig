{
  "cells": [
    {
      "cell_type": "markdown",
      "metadata": {},
      "source": [
        "\n# Plot Smoke Polygons\n\nGet HMS Smoke from RSIG and create daily plots.\n"
      ]
    },
    {
      "cell_type": "code",
      "execution_count": null,
      "metadata": {
        "collapsed": false
      },
      "outputs": [],
      "source": [
        "import matplotlib.pyplot as plt\nimport matplotlib.colors as mc\nimport pandas as pd\nimport pycno\nimport pyrsig\n\n\ncno = pycno.cno()\napi = pyrsig.RsigApi()"
      ]
    },
    {
      "cell_type": "markdown",
      "metadata": {},
      "source": [
        "## Retrieve data from RSIG (or cache)\n\n"
      ]
    },
    {
      "cell_type": "code",
      "execution_count": null,
      "metadata": {
        "collapsed": false
      },
      "outputs": [],
      "source": [
        "hmsfs = []\ndates = pd.date_range('2023-06-12', '2023-06-15')\nfor bdate in dates:\n    hmsf = api.to_dataframe(\"hms.smoke\", bdate=bdate)\n    hmsfs.append(hmsf)\n\nhmsf = pd.concat(hmsfs)"
      ]
    },
    {
      "cell_type": "markdown",
      "metadata": {},
      "source": [
        "## Make Plot\n\n"
      ]
    },
    {
      "cell_type": "code",
      "execution_count": null,
      "metadata": {
        "collapsed": false
      },
      "outputs": [],
      "source": [
        "# set up colormap and normalization\nlevels = [0, 7.5, 20, 35]\ncolors = ['green', 'yellow', 'red']\ncmap, norm = mc.from_levels_and_colors(levels, colors)\n\n# create multipanel figure\ngskw = dict(left=0.05, right=0.915, bottom=0.05, top=0.9)\nfig, axx = plt.subplots(\n    2, 2, figsize=(11, 8), gridspec_kw=gskw, sharex=True, sharey=True\n)\n# add axes for colorbar\ncax = fig.add_axes([0.925, 0.1, 0.025, 0.8])\n\n# add maps to each panel\nfor di, date in enumerate(dates):\n    jdate = date.strftime('%Y%j')\n    ax = axx.ravel()[di]\n    plotf = hmsf.query(f'YYYYDDD1 == {jdate}').sort_values(['DENS_UGM3'])\n    plotf.plot('DENS_UGM3', cmap=cmap, norm=norm, ax=ax, aspect=None)\n    topts = dict(size=16, transform=ax.transAxes, bbox=dict(facecolor='white'))\n    ax.text(0.02, 0.04, date.strftime('%F'), **topts)\n    cno.drawstates(ax=ax)\n\n# set extent to data extent\nax.set(xlim=api.bbox[::2], ylim=api.bbox[1::2])\n# add colorbar with categories\ncb = fig.colorbar(ax.collections[0], cax=cax, ticks=[3.25, 13.75, 27.5])\ncb.ax.set_yticklabels(\n    ['Light', 'Medium', 'Heavy'], rotation=90, verticalalignment='center',\n    size=16\n)\nfig.suptitle('HMS Smoke Qualitative Categories from GOES', size=20)\nfig.savefig('hms_smoke.png')"
      ]
    }
  ],
  "metadata": {
    "kernelspec": {
      "display_name": "Python 3",
      "language": "python",
      "name": "python3"
    },
    "language_info": {
      "codemirror_mode": {
        "name": "ipython",
        "version": 3
      },
      "file_extension": ".py",
      "mimetype": "text/x-python",
      "name": "python",
      "nbconvert_exporter": "python",
      "pygments_lexer": "ipython3",
      "version": "3.12.8"
    }
  },
  "nbformat": 4,
  "nbformat_minor": 0
}