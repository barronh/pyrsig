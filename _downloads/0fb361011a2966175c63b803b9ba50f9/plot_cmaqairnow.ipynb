{
  "cells": [
    {
      "cell_type": "markdown",
      "metadata": {},
      "source": [
        "\n# Pairing CMAQ with AirNow Ozone\n\nThis example performs a simple comparison of CMAQ to AirNow for ozone.\n"
      ]
    },
    {
      "cell_type": "code",
      "execution_count": null,
      "metadata": {
        "collapsed": false
      },
      "outputs": [],
      "source": [
        "import pyrsig\nimport pycno\n\n\ncmaqkey = 'cmaq.equates.conus.aconc.O3'\ndatakey = 'airnow.ozone'\n\napi = pyrsig.RsigApi()\n\n# Return CMAQ for default bbox (-126, 24, -66, -50) for a single day\nds = api.to_ioapi(cmaqkey, bdate='2018-07-01')\n\n# pair_rsigcmaq will match the bbox, bdate, and edate from the CMAQ dataset.\ndf = pyrsig.cmaq.pair_rsigcmaq(ds, 'O3', datakey)\n# Or, use persist=True to save pairing to disk and return output path instead.\n# import pandas as pd\n# outpath = pyrsig.cmaq.pair_rsigcmaq(ds, 'O3', datakey, persist=True)\n# df = pd.read_csv(outpath)\n\n# Calculate stats table with common quantile, correlation, and bias metrics\nstatsdf = pyrsig.utils.quickstats(df[['ozone', 'CMAQ_O3']], 'ozone')\n# Print them for the user to review.\nprint(statsdf.to_markdown())\n\ndds = ds['O3'].mean('TSTEP')\nddf = df.groupby(['x', 'y'], as_index=False).mean(numeric_only=True)\n\nqm = dds.plot()\nqm.axes.scatter(\n    ddf.x, ddf.y, c=ddf.ozone, norm=qm.norm, cmap=qm.cmap, edgecolor='w'\n)\npycno.cno(ds.crs_proj4).drawstates()\nqm.figure.savefig('ozone_map.png')\n\nvmax = df[['ozone', 'CMAQ_O3']].max().max()\nax = df.plot.hexbin(x='ozone', y='CMAQ_O3', mincnt=1, extent=(0, vmax, 0, vmax))\nax.set(xlabel='Obs Ozone [ppb]', ylabel='CMAQ [ppb]', facecolor='gainsboro')\nax.axline((0, 0), slope=1, label='1:1')\nax.collections[0].colorbar.set_label('count')\nax.figure.savefig('ozone_scatter.png')"
      ]
    }
  ],
  "metadata": {
    "kernelspec": {
      "display_name": "Python 3",
      "language": "python",
      "name": "python3"
    },
    "language_info": {
      "codemirror_mode": {
        "name": "ipython",
        "version": 3
      },
      "file_extension": ".py",
      "mimetype": "text/x-python",
      "name": "python",
      "nbconvert_exporter": "python",
      "pygments_lexer": "ipython3",
      "version": "3.12.8"
    }
  },
  "nbformat": 4,
  "nbformat_minor": 0
}