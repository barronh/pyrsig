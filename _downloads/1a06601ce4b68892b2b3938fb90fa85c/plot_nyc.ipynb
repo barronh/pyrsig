{
  "cells": [
    {
      "cell_type": "markdown",
      "metadata": {},
      "source": [
        "\n# NYC VIIRS AOD vs TropOMI NO2\n\nTimeseries comparison of VIIRS AOD and TropOMI in NYC.\n"
      ]
    },
    {
      "cell_type": "code",
      "execution_count": null,
      "metadata": {
        "collapsed": false
      },
      "outputs": [],
      "source": [
        "import matplotlib.pyplot as plt\nimport pyrsig\nimport os\n\nos.makedirs('nyc', exist_ok=True)\n\n# Create an RSIG api isntance\n# Define a Time and Space Scope: here end of February around Phoenix\nrsigapi = pyrsig.RsigApi(\n    bdate='2022-01-20', edate='2022-01-25',\n    bbox=(-74.8, 40.32, -71.43, 41.4), workdir='nyc'\n)\n\n# Get TropOMI NO2\ntomino2df = rsigapi.to_dataframe(\n    'tropomi.offl.no2.nitrogendioxide_tropospheric_column',\n    unit_keys=False, parse_dates=True\n)\n\n# Get VIIRS AOD\nviirsaoddf = rsigapi.to_dataframe(\n    'viirsnoaa.jrraod.AOD550', unit_keys=False, parse_dates=True\n)\n\n# Create spatial medians for TropOMI and AQS\ntomids = (\n    tomino2df.groupby('time').median(numeric_only=True)['nitrogendioxide_tropospheric_column']\n)\nviirsds = (\n    viirsaoddf.groupby('time').median(numeric_only=True)['AOD550']\n)\n\n# Create axes with shared x\nfig, ax = plt.subplots(figsize=(12, 4),\n                       gridspec_kw=dict(bottom=0.25, left=0.15, right=0.95))\nax.tick_params(axis='x', labelrotation = 90)\ntax = ax.twinx()\n\n# Add VIIRS AOD\nax.plot(viirsds.index.values, viirsds.values, marker='o', color='g')\n\n# Add TropOMI NO2\ntax.plot(tomids.index.values, tomids.values, marker='s', color='r')\n\n# Configure axes\nax.set(ylabel='VIIRS AOD')\ntax.set(ylim=(0, 1.7e16), ylabel='TropOMI NO2 molecules/cm$^2$')\n\nplt.show()\n# Or save out figure\n# fig.savefig('nyc.png')"
      ]
    }
  ],
  "metadata": {
    "kernelspec": {
      "display_name": "Python 3",
      "language": "python",
      "name": "python3"
    },
    "language_info": {
      "codemirror_mode": {
        "name": "ipython",
        "version": 3
      },
      "file_extension": ".py",
      "mimetype": "text/x-python",
      "name": "python",
      "nbconvert_exporter": "python",
      "pygments_lexer": "ipython3",
      "version": "3.12.8"
    }
  },
  "nbformat": 4,
  "nbformat_minor": 0
}