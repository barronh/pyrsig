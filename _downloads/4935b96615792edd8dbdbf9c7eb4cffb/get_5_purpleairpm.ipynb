{
  "cells": [
    {
      "cell_type": "markdown",
      "metadata": {},
      "source": [
        "\n# Get DataFrame for PurpleAir PM25\n\nShows how to get PurpleAir measurements as a DataFrame. PurpleAir, unlike other\ncoverages, requires an api_key that you must get from PurpleAir.\n"
      ]
    },
    {
      "cell_type": "code",
      "execution_count": null,
      "metadata": {
        "collapsed": false
      },
      "outputs": [],
      "source": [
        "# sphinx_gallery_thumbnail_path = '_static/purpleairpm.png'\n\nimport pyrsig\n\nrsigapi = pyrsig.RsigApi(bdate='2022-03-01')\nrsigapi.purpleair_kw['api_key'] = '<put your api key here>'\ndf = rsigapi.to_dataframe('purpleair.pm25_corrected')"
      ]
    }
  ],
  "metadata": {
    "kernelspec": {
      "display_name": "Python 3",
      "language": "python",
      "name": "python3"
    },
    "language_info": {
      "codemirror_mode": {
        "name": "ipython",
        "version": 3
      },
      "file_extension": ".py",
      "mimetype": "text/x-python",
      "name": "python",
      "nbconvert_exporter": "python",
      "pygments_lexer": "ipython3",
      "version": "3.12.8"
    }
  },
  "nbformat": 4,
  "nbformat_minor": 0
}