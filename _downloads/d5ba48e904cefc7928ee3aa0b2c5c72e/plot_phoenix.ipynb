{
  "cells": [
    {
      "cell_type": "markdown",
      "metadata": {},
      "source": [
        "\n# Phoenix AQS vs TropOMI\n\nTimeseries comparison of NO2 from AQS and TropOMI in Phoenix.\n"
      ]
    },
    {
      "cell_type": "code",
      "execution_count": null,
      "metadata": {
        "collapsed": false
      },
      "outputs": [],
      "source": [
        "import matplotlib.pyplot as plt\nimport pyrsig\n\n# Create an RSIG api isntance\n# Define a Time and Space Scope: here end of February around Phoenix\nrsigapi = pyrsig.RsigApi(\n    bdate='2022-01-01', edate='2022-01-15',\n    bbox=(-112.3, 33.25, -111.85, 33.65)\n)\n\n# Get AQS NO2 with dates parsed and units removed from column names\naqsdf = rsigapi.to_dataframe('aqs.no2', parse_dates=True, unit_keys=False)\n\n# Get TropOMI NO2\ntomino2df = rsigapi.to_dataframe(\n    'tropomi.offl.no2.nitrogendioxide_tropospheric_column',\n    unit_keys=False, parse_dates=True\n)\n\n\n# Create spatial medians for TropOMI and AQS\ntomids = tomino2df.groupby('time').median(numeric_only=True)[\n    'nitrogendioxide_tropospheric_column'\n]\naqsds = aqsdf.groupby(['time']).median(numeric_only=True)['no2']\n\n# Subset AQS to overpass times\noaqsds = aqsds.loc[aqsds.index.isin(tomids.index.floor('1h'))]  # just overpass t\n\n# Create axes with shared x\nfig, ax = plt.subplots(figsize=(12, 4),\n                       gridspec_kw=dict(bottom=0.25, left=0.05, right=0.95))\nax.tick_params(axis='x', labelrotation=90)\ntax = ax.twinx()\n\n# Add AQS with markers at overpasses\nax.plot(aqsds.index.values, aqsds.values, color='k')\nax.scatter(oaqsds.index.values, oaqsds.values, marker='o', color='b')\n\n# Add TropOMI NO2\ntax.plot(tomids.index.values, tomids.values, marker='s', color='r')\n\n# Configure axes\nax.set(ylabel='AQS NO2 ppb')\ntax.set(ylim=(0, 1.7e16), ylabel='TropOMI NO2 molecules/cm$^2$')\n\nplt.show()\n# Or save out figure\n# fig.savefig('phoenix.png')"
      ]
    }
  ],
  "metadata": {
    "kernelspec": {
      "display_name": "Python 3",
      "language": "python",
      "name": "python3"
    },
    "language_info": {
      "codemirror_mode": {
        "name": "ipython",
        "version": 3
      },
      "file_extension": ".py",
      "mimetype": "text/x-python",
      "name": "python",
      "nbconvert_exporter": "python",
      "pygments_lexer": "ipython3",
      "version": "3.12.8"
    }
  },
  "nbformat": 4,
  "nbformat_minor": 0
}