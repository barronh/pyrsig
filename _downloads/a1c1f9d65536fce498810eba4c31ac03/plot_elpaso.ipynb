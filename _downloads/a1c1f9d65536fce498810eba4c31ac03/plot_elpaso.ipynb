{
  "cells": [
    {
      "cell_type": "markdown",
      "metadata": {},
      "source": [
        "\n# El Paso AirNow vs TEMPO\n\nTimeseries comparison of NO2 from AirNow and TEMPO in El Paso, TX\nduring unvalidated release 2023-12-17 to 2023-12-30.\n"
      ]
    },
    {
      "cell_type": "code",
      "execution_count": null,
      "metadata": {
        "collapsed": false
      },
      "outputs": [],
      "source": [
        "import matplotlib.pyplot as plt\nimport pyrsig\nimport pandas as pd\nimport os\n\n# Create an RSIG api isntance\n# Define a Time and Space Scope during unvalidated release around El Paso TX\nrsigapi = pyrsig.RsigApi(\n    bdate='2023-12-23T00', edate='2023-12-26T23:59:59',\n    bbox=(-106.70, 31.39, -105.95, 32.00), workdir='elpaso'\n)\n\n# For the unvalidated data release, you do not need a key. To expand,\n# outside the release, use a key.\n# tkey = open(os.path.expandusrer('~/.tempokey'), 'r').read().strip()\ntkey = 'none'\nrsigapi.tempo_kw['api_key'] = tkey\n\n# Get AirNow NO2 with dates parsed and units removed from column names\nandf = rsigapi.to_dataframe(\n    'airnow.no2', parse_dates=True, unit_keys=False, verbose=9\n)\n\n# Get TEMPO NO2\ntempodf = rsigapi.to_dataframe(\n    'tempo.l2.no2.vertical_column_troposphere',\n    unit_keys=False, parse_dates=True, verbose=9\n)\n\n\n# Create spatial medians for TEMPO and AirNow\ntempods = tempodf.groupby(pd.Grouper(key='time', freq='1h')).median(numeric_only=True)[\n    'no2_vertical_column_troposphere'\n]\nands = andf.groupby(['time']).median(numeric_only=True)['no2']\n\n# Subset AirNow to overpass times\noands = ands.loc[ands.index.isin(tempods.dropna().index.floor('1h'))]  # just overpass t\n# Create axes with shared x\nfig, ax = plt.subplots(figsize=(12, 4),\n                       gridspec_kw=dict(bottom=0.25, left=0.05, right=0.95))\nax.tick_params(axis='x', labelrotation=90)\ntax = ax.twinx()\n\n# Add AirNow with markers at overpasses\nax.plot(ands.index.values, ands.values, color='k')\nax.scatter(oands.index.values, oands.values, marker='o', color='b')\n\n# Add TEMPO NO2\ntax.plot(tempods.index.values, tempods.values, marker='s', color='r')\n\n# Configure axes\nax.set(ylabel='AirNow NO2 ppb', ylim=(0, 10))\ntax.set(ylim=(0.3e15, 4e15), ylabel='TEMPO NO2 molecules/cm$^2$')\n\nplt.show()\n# Or save out figure\nfig.savefig('el_paso.png')"
      ]
    }
  ],
  "metadata": {
    "kernelspec": {
      "display_name": "Python 3",
      "language": "python",
      "name": "python3"
    },
    "language_info": {
      "codemirror_mode": {
        "name": "ipython",
        "version": 3
      },
      "file_extension": ".py",
      "mimetype": "text/x-python",
      "name": "python",
      "nbconvert_exporter": "python",
      "pygments_lexer": "ipython3",
      "version": "3.12.8"
    }
  },
  "nbformat": 4,
  "nbformat_minor": 0
}