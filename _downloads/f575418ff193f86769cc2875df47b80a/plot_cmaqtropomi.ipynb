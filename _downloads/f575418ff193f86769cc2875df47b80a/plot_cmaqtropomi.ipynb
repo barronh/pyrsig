{
  "cells": [
    {
      "cell_type": "markdown",
      "metadata": {},
      "source": [
        "\n# Pairing CMAQ with TropOMI Columns\n\nThis example performs a simple comparison of CMAQ to TropOMI. TropOMI retrieves\ntotal column HCHO at overpass time. The CMAQ PHOTDIAG1 outputs the column\nintegral at each hour.\n\n- This analysis ignores satellite differential sensitivity, since CMAQ PHOTDIAG1\n  outputs the whole column with perfect sensitivity.\n  \n- CMAQ column outputs include all molecules up to the model top defined by VGTOP\n  When VGTOP is 5000Pa, this includes some, but not all stratosphere. Further,\n  CMAQ does not have many stratosphere reactions/species. Comparisons could be\n  improved (e.g., with cmaqsatproc)\n"
      ]
    },
    {
      "cell_type": "markdown",
      "metadata": {},
      "source": [
        "## Import libraries\nAnd tell xarray to keep variable attributes\n\n"
      ]
    },
    {
      "cell_type": "code",
      "execution_count": null,
      "metadata": {
        "collapsed": false
      },
      "outputs": [],
      "source": [
        "import matplotlib.pyplot as plt\nimport pyrsig\nimport pycno\nimport pandas as pd\nimport xarray as xr\n\nxr.set_options(keep_attrs=True)"
      ]
    },
    {
      "cell_type": "markdown",
      "metadata": {},
      "source": [
        "## Define the focus\n- area/time/domain of interest\n\n"
      ]
    },
    {
      "cell_type": "code",
      "execution_count": null,
      "metadata": {
        "collapsed": false
      },
      "outputs": [],
      "source": [
        "bbox = (-130, 20, -55, 60)\nstart = '2019-06-01T00Z'\nend = '2019-06-07T00Z'\ngdnam = '12US1'\nspc = 'NO2'  # or NO2\n# qtmpl = 'CCTM_PHOTDIAG1_%Y%m%d.nc'"
      ]
    },
    {
      "cell_type": "markdown",
      "metadata": {},
      "source": [
        "## Set species options\n- area/time/domain of interest\n\n"
      ]
    },
    {
      "cell_type": "code",
      "execution_count": null,
      "metadata": {
        "collapsed": false
      },
      "outputs": [],
      "source": [
        "tdkey = {\n    'HCHO': 'tropomi.offl.hcho.formaldehyde_tropospheric_vertical_column',\n    'NO2': 'tropomi.offl.no2.nitrogendioxide_tropospheric_column'\n}[spc]\ncdkey = {\n    'HCHO': 'cmaq.equates.conus.integrated.HCHO_COLUMN',\n    'NO2': 'cmaq.equates.conus.integrated.NO2_COLUMN',\n}[spc]\ntvkey = spc\nqvkey = f'{spc}_COLUMN'"
      ]
    },
    {
      "cell_type": "markdown",
      "metadata": {},
      "source": [
        "## Collect Daily Datasets\n\n\n"
      ]
    },
    {
      "cell_type": "code",
      "execution_count": null,
      "metadata": {
        "collapsed": false
      },
      "outputs": [],
      "source": [
        "api = pyrsig.RsigApi(bbox=bbox, grid_kw=gdnam, workdir=gdnam)\ndates = pd.date_range(start, end)\ndt = pd.to_timedelta('1d') - pd.to_timedelta('1s')\ntodss = []\ncqdss = []\nfor bdate in dates:\n  edate = bdate + dt\n  # cqdss.append(pyrsig.open_ioapi(bdate.strftime(qtmpl))[[qvkey]])\n  cqdss.append(\n      api.to_ioapi(cdkey, bdate=bdate, edate=edate).where(\n          lambda x: x > -9.999e+36\n      )\n  )\n  todss.append(\n      api.to_ioapi(tdkey, bdate=bdate, edate=edate).where(\n          lambda x: x > -9.999e+36\n      )\n  )"
      ]
    },
    {
      "cell_type": "markdown",
      "metadata": {},
      "source": [
        "## Mask CMAQ like TropOMI\n- implicitly applies overpass time\n- implicitly cloud filter (assuming similar)\n\n"
      ]
    },
    {
      "cell_type": "code",
      "execution_count": null,
      "metadata": {
        "collapsed": false
      },
      "outputs": [],
      "source": [
        "tods = xr.concat(todss, dim='TSTEP')\ncqds = xr.concat(cqdss, dim='TSTEP')\n# sample CMAQ when TropOMI is valid\ntcqds = cqds.where(~tods[tvkey].isnull().isel(LAY=0))\nmcqds = tcqds.mean('TSTEP', keepdims=True)\nmtods = tods.mean('TSTEP', keepdims=True)\n# CMAQ stores NO2_COLUMN and HCHO column as petamolecules/cm2\nmtods[f'{tvkey}_CMAQ'] = mcqds[qvkey].dims, mcqds[qvkey].data * 1e15 \nmtods[f'{tvkey}_CMAQ'].attrs.update(\n    units='molecules/cm**2',\n    long_name=qvkey.ljust(16),\n    var_desc=f'CMAQ total column {qvkey}'.ljust(80)\n)"
      ]
    },
    {
      "cell_type": "markdown",
      "metadata": {},
      "source": [
        "## Output TropOMI with CMAQ\n\n\n"
      ]
    },
    {
      "cell_type": "code",
      "execution_count": null,
      "metadata": {
        "collapsed": false
      },
      "outputs": [],
      "source": [
        "mtods.to_netcdf(f'TropOMI_and_CMAQ_AVG_{tvkey}_{start}_{end}_{gdnam}.nc')\nfig, axx = plt.subplots(1, 2, figsize=(12, 4))\nqm = mtods[tvkey].plot(ax=axx[0], vmin=0, vmax=3e15, extend='max')\nmtods[f'{tvkey}_CMAQ'].plot(ax=axx[1], norm=qm.norm, extend='max')\npycno.cno(mtods.crs_proj4).drawstates(ax=axx)\nfig.savefig(f'TropOMI_and_CMAQ_AVG_{tvkey}_{start}_{end}_{gdnam}.png')"
      ]
    }
  ],
  "metadata": {
    "kernelspec": {
      "display_name": "Python 3",
      "language": "python",
      "name": "python3"
    },
    "language_info": {
      "codemirror_mode": {
        "name": "ipython",
        "version": 3
      },
      "file_extension": ".py",
      "mimetype": "text/x-python",
      "name": "python",
      "nbconvert_exporter": "python",
      "pygments_lexer": "ipython3",
      "version": "3.12.8"
    }
  },
  "nbformat": 4,
  "nbformat_minor": 0
}