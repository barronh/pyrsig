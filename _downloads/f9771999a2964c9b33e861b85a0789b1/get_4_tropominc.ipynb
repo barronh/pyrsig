{
  "cells": [
    {
      "cell_type": "markdown",
      "metadata": {},
      "source": [
        "\n# Get IOAPI formatted NetCDF TropOMI NO2\n\nShows how to get TropOMI as an xarray Dataset. This example downloads a NetCDF\nfile with IOAPI metadata, which is opened and returned.\n"
      ]
    },
    {
      "cell_type": "code",
      "execution_count": null,
      "metadata": {
        "collapsed": false
      },
      "outputs": [],
      "source": [
        "# sphinx_gallery_thumbnail_path = '_static/tropominc.png'\n\nimport pyrsig\n\nrsigapi = pyrsig.RsigApi(bdate='2022-03-01')\nds = rsigapi.to_ioapi('tropomi.offl.no2.nitrogendioxide_tropospheric_column')\nprint(ds.data_vars)\n# Data variables:\n#     TFLAG      (TSTEP, VAR, DATE-TIME) int32 ...\n#     LONGITUDE  (TSTEP, LAY, ROW, COL) float32 ...\n#     LATITUDE   (TSTEP, LAY, ROW, COL) float32 ...\n#     COUNT      (TSTEP, LAY, ROW, COL) int32 ...\n#     NO2        (TSTEP, LAY, ROW, COL) float32 ..."
      ]
    }
  ],
  "metadata": {
    "kernelspec": {
      "display_name": "Python 3",
      "language": "python",
      "name": "python3"
    },
    "language_info": {
      "codemirror_mode": {
        "name": "ipython",
        "version": 3
      },
      "file_extension": ".py",
      "mimetype": "text/x-python",
      "name": "python",
      "nbconvert_exporter": "python",
      "pygments_lexer": "ipython3",
      "version": "3.12.8"
    }
  },
  "nbformat": 4,
  "nbformat_minor": 0
}