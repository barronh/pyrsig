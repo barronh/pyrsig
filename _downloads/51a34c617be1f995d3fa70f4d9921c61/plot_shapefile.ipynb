{
  "cells": [
    {
      "cell_type": "markdown",
      "metadata": {},
      "source": [
        "\n# GIS TropOMI Processing\n\nGet TropOMI from RSIG and save as GeoJSON and shapefiles.\n"
      ]
    },
    {
      "cell_type": "code",
      "execution_count": null,
      "metadata": {
        "collapsed": false
      },
      "outputs": [],
      "source": [
        "import matplotlib.pyplot as plt\nimport geopandas as gpd\nfrom shapely import polygons\nimport pyrsig\nimport pycno\n\n\ncoordkeys = [\n    'Longitude_SW(deg)', 'Latitude_SW(deg)',\n    'Longitude_SE(deg)', 'Latitude_SE(deg)',\n    'Longitude_NE(deg)', 'Latitude_NE(deg)',\n    'Longitude_NW(deg)', 'Latitude_NW(deg)',\n    'Longitude_SW(deg)', 'Latitude_SW(deg)',\n]\n\ncno = pycno.cno()\n\n# Retrieve data from RSIG (or cache)\ndatakey = \"tropomi.offl.no2.nitrogendioxide_tropospheric_column\"\nbdate = \"2023-07-23\"\nbbox = (-75, 40, -69, 46)\napi = pyrsig.RsigApi(bbox=bbox)\n# Either ascii or xdr backend works, xdr is faster\ntropdf = api.to_dataframe(datakey, bdate=bdate, backend='xdr')\ngeom = polygons(tropdf[coordkeys].values.reshape(-1, 5, 2))\ngtropdf = gpd.GeoDataFrame(\n    tropdf.drop(columns=coordkeys), geometry=geom, crs=4326\n)\n\n# Make Plot\ncol = 'nitrogendioxide_tropospheric_column(molecules/cm2)'\nfig, ax = plt.subplots(figsize=(4, 4), dpi=300)\ngtropdf.plot(col, edgecolor=\"face\", linewidth=0.1, legend=True, ax=ax)\ncno.drawstates(ax=ax, resnum=1)\nfig.savefig(f'{datakey}_{bdate}.png')\n\n# Save as a GIS Format\ngtropdf.to_file(f'{datakey}_{bdate}.geojson')\n# Shapefiles prefer short names\ngtropdf.rename(columns={\n    'Timestamp(UTC)': 'time_utc',\n    'LATITUDE(deg)': 'lat_center',\n    'LONGITUDE(deg)': 'lon_center',\n    col: 'no2_trop',\n}).to_file(f'{datakey}_{bdate}.shp')"
      ]
    }
  ],
  "metadata": {
    "kernelspec": {
      "display_name": "Python 3",
      "language": "python",
      "name": "python3"
    },
    "language_info": {
      "codemirror_mode": {
        "name": "ipython",
        "version": 3
      },
      "file_extension": ".py",
      "mimetype": "text/x-python",
      "name": "python",
      "nbconvert_exporter": "python",
      "pygments_lexer": "ipython3",
      "version": "3.12.8"
    }
  },
  "nbformat": 4,
  "nbformat_minor": 0
}