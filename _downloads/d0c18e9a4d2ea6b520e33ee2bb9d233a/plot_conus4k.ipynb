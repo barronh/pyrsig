{
  "cells": [
    {
      "cell_type": "markdown",
      "metadata": {},
      "source": [
        "\n# Oversample CONUS at 4k\n\nCreate a 4km gridded product on a Continental US grid, but only download\ndata over NC.\n"
      ]
    },
    {
      "cell_type": "code",
      "execution_count": null,
      "metadata": {
        "collapsed": false
      },
      "outputs": [],
      "source": [
        "import matplotlib.pyplot as plt\nimport pyrsig\nimport pandas as pd\nimport xarray as xr\nimport pycno\nimport os\n\n\n# Create a working directory\ngdnam = '4US1'\nbdate = '2020-01-01'\nedate = '2020-01-15'\nwdir = f'{gdnam}/{bdate[:4]}'\n\nos.makedirs(gdnam, exist_ok=True)\n\nrsigapi = pyrsig.RsigApi(\n    bdate=bdate, bbox=(-85, 33, -75, 37),\n    encoding={\"zlib\": True, \"complevel\": 1, \"_FillValue\": -9.999e36},\n    workdir=wdir, grid_kw=gdnam\n)\n\n# Update to download daily averages instead of hourly\nrsigapi.grid_kw['REGRID_AGGREGATE'] = 'daily'\n\n# Loop over days\ndss = []\nfor bdate in pd.date_range(bdate, edate):\n    print(bdate)\n    try:\n        ds = rsigapi.to_ioapi(key='tropomi.offl.no2.nitrogendioxide_tropospheric_column', bdate=bdate)\n        dss.append(ds)\n    except Exception as e:\n        print(e)\n\n# Create a simple long-term average\noutds = dss[0][['DAILY_NO2', 'COUNT']].isel(TSTEP=0, LAY=0)\noutds['DAILY_NO2'] = outds['DAILY_NO2'].fillna(0) * outds['COUNT']\nfor ds in dss[1:]:\n    ds = ds.isel(TSTEP=0, LAY=0)\n    outds['DAILY_NO2'] += ds['DAILY_NO2'].fillna(0) * ds['COUNT']\n    outds['COUNT'] += ds['COUNT']\n\nZ = outds['DAILY_NO2'] = (outds['DAILY_NO2'] / outds['COUNT'])\n\n# Make a plot with a medium grey background and state boundaries\nqm = Z.plot()\nqm.axes.set(facecolor='gainsboro')\npycno.cno(dss[0].attrs['crs_proj4']).drawstates(ax=qm.axes)\n\n# Show the figure\nplt.show()\n# Or save the figure\n# qm.figure.savefig('conus4k.png')"
      ]
    }
  ],
  "metadata": {
    "kernelspec": {
      "display_name": "Python 3",
      "language": "python",
      "name": "python3"
    },
    "language_info": {
      "codemirror_mode": {
        "name": "ipython",
        "version": 3
      },
      "file_extension": ".py",
      "mimetype": "text/x-python",
      "name": "python",
      "nbconvert_exporter": "python",
      "pygments_lexer": "ipython3",
      "version": "3.12.8"
    }
  },
  "nbformat": 4,
  "nbformat_minor": 0
}