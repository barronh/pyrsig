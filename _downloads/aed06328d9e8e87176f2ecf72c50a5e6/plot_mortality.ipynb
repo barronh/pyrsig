{
  "cells": [
    {
      "cell_type": "markdown",
      "metadata": {},
      "source": [
        "\n# Pairing Population with Concentration\n\nThis example performs a simple health benefit assessment by pairing model\nconcentrations with population datasets in RSIG. The population dataset comes\nfrom the Integrated Climate and Land Use Scenarios (ICLUS). The concentration\ndataset comes from the EPA's Air QUAlity TimE Series Project (EQUATES) project.\nThe concentration response function (CRF) uses Krewski 2009.\n\n\nConceptualy, mortality or morbitidy (M) is attributed to cause (i) based on an\nattributable fraction (F) as a function of space (x). For air quality\napplications, the F_x is a function of pollutant concentrations or mixing\nratios. Often, M_x is known at a coarser spatial resolution than is ideal. In\nthat case, M_x may be translated into a fractional baseline incidence (y0_x)\nand used to estimate M_x using spatially resolved P_x.\n\nm_x = M_x * F_x = y0_x * P_x * F_x\n\nIn this example, the problem is (over)simplified in three ways:\n1. Mortality is applied at the county-level assuming no intracounty variation.\n2. It assumes the age-stratification is nationally homogenous.\n3. It assumes that baseline incidence is nationally homogenous.\n\nThe example datasets and CRF can be replaced. The geopandas package read_file\nfunction can be used to open shapefiles with M_x at polygons. So, you could\ncreate age-specific mortality incidence at census tract level to improve this\nexample.\n"
      ]
    },
    {
      "cell_type": "code",
      "execution_count": null,
      "metadata": {
        "collapsed": false
      },
      "outputs": [],
      "source": [
        "import matplotlib.pyplot as plt\nimport numpy as np\nimport pandas as pd\nimport xarray as xr\nfrom shapely import polygons\nimport geopandas as gpd\nimport pycno\nimport pyrsig\n\n\ndatakey = 'cmaq.equates.conus.aconc.PM25'\nckey = 'PM25'"
      ]
    },
    {
      "cell_type": "markdown",
      "metadata": {},
      "source": [
        "## Concentration Reponse Function Formulation\n\n* Krewski 2009 PM25\n  * all-cause mortality risk 1.06 per 10 micrograms/m3\n  * 30+ year-old population\n* Simplifying Assumptions\n  * Baseline mortality incidence is spatiall uniform\n    * [GDB IHME](vizhub.healthdata.org/gbd-results) for 2019 in the US\n    * all cause deaths =   2853165.03\n    * population       = 329996155.19\n  * Age distribution is spatially unfiorm\n    * Age distribution from the US Census ACSST5Y2020\n    * US population 30 years or older: 201686433\n    * US population total            : 329824950\n\n"
      ]
    },
    {
      "cell_type": "code",
      "execution_count": null,
      "metadata": {
        "collapsed": false
      },
      "outputs": [],
      "source": [
        "beta = np.log(1.06) / 10\ny0 = 2853165.03 / 329996155.19\nf_pop = 201686433 / 329824950\n\n\nbdates = pd.date_range('2019-01-01', '2019-12-31', freq='1d')\nprint('**WARNING**: using 1 day/month as representative of monthly average')\nbdates = bdates[15::30]"
      ]
    },
    {
      "cell_type": "markdown",
      "metadata": {},
      "source": [
        "## Retrieve Conc from RSIG (or cache)\n\n"
      ]
    },
    {
      "cell_type": "code",
      "execution_count": null,
      "metadata": {
        "collapsed": false
      },
      "outputs": [],
      "source": [
        "dss = []\nfor bdate in bdates:\n    ds = pyrsig.to_ioapi(datakey, bbox=(-180, 0, 0, 90), bdate=bdate)\n    dss.append(ds[[ckey]].mean(('TSTEP', 'LAY'), keep_attrs=True))\n\nattrs = {k: v for k, v in ds.attrs.items()}\nds = xr.concat(dss, dim='TSTEP')\nds.attrs.update(attrs)\nunits = ds[ckey].units.strip()"
      ]
    },
    {
      "cell_type": "markdown",
      "metadata": {},
      "source": [
        "## Retrieve Pop from RSIG (or cache)\n\npopulation available for pacific, gulf, and atlantic and is returned as a\ngeopandas.GeoDataFrame. These populations are at the county scale, which\nlimits the spatial resolution of the analysis to sizes of counties.\n\n"
      ]
    },
    {
      "cell_type": "code",
      "execution_count": null,
      "metadata": {
        "collapsed": false
      },
      "outputs": [],
      "source": [
        "popdf = pyrsig.to_dataframe(\n    'landuse.atlantic.population_iclus1',\n    bdate='2010-01-01T000000Z', edate='2090-01-01T235959Z'\n)\npopdf.crs = 4326"
      ]
    },
    {
      "cell_type": "markdown",
      "metadata": {},
      "source": [
        "## Convert Conc to GeoDataFrame\n\nConverting Conc to a GeoDataFrame for compatibility with population.\n\n"
      ]
    },
    {
      "cell_type": "code",
      "execution_count": null,
      "metadata": {
        "collapsed": false
      },
      "outputs": [],
      "source": [
        "df = ds.mean('TSTEP').to_dataframe()\n\n# Create a GeoDataFrame in grid cell units\ncell_off = np.array([[[-.5, -.5], [.5, -.5], [.5, .5], [-.5, .5]]])\nxy = df.reset_index()[['COL', 'ROW']].values[:, None, :]\ngeom = polygons(xy + cell_off)\ncgdf = gpd.GeoDataFrame(df, geometry=geom, crs=ds.crs_proj4)\nbmdf = cgdf.to_crs(4326).copy().reset_index()\nbmdf['COL'] = bmdf['COL'].apply(lambda x: f'{x + .5:.0f}').astype('i')\nbmdf['ROW'] = bmdf['ROW'].apply(lambda x: f'{x + .5:.0f}').astype('i')\nbmdf.to_file(f'{datakey}.shp')"
      ]
    },
    {
      "cell_type": "markdown",
      "metadata": {},
      "source": [
        "## Area Weight Conc at Population\n\nCreate area weighted concentrations at the population polygon level.\n1. Create intersection\n2. Calculate intersection fraction from each grid cell\n3. Weight concentration by area\n\n"
      ]
    },
    {
      "cell_type": "code",
      "execution_count": null,
      "metadata": {
        "collapsed": false
      },
      "outputs": [],
      "source": [
        "intxdf = gpd.overlay(cgdf.reset_index(), popdf.to_crs(cgdf.crs).reset_index())\nintxdf['intx_area'] = intxdf.geometry.area\nintx_total_area = intxdf[['index', 'intx_area']].groupby('index').sum()\nintxdf['overlapped_area'] = intx_total_area.loc[intxdf['index']].values\narea_factor = intxdf['intx_area'] / intxdf['overlapped_area']\n# Calculate area weighted concentration as C and use 2010 population as P\nintxdf[f'areawt_{ckey}'] = intxdf[ckey] * area_factor\nfinaldf = intxdf.groupby('index').agg(\n    C=(f'areawt_{ckey}', 'sum'),\n    P=('BC_2010POP', 'first'),\n)\n\n# Convert to geodataframe pulling geometry from original pop dataframe\npgeom = popdf.loc[finaldf.index, 'geometry']\nfinaldf = gpd.GeoDataFrame(finaldf, geometry=pgeom, crs=4326)\n\nF = finaldf['F'] = 1 - np.exp(-beta * finaldf['C'])\nM = finaldf['M'] = y0 * finaldf['P'] * f_pop\nfinaldf['M_i'] = M * F\nM_i = float(finaldf['M_i'].sum())\nP = float(finaldf['P'].sum())\nM = float(M.sum())\nC_p = float(finaldf.eval('C * P').sum() / P)\n\n# Now make the plot\ngskw = dict(left=0.05, right=0.95)\nfig, axx = plt.subplots(1, 2, figsize=(8, 4), gridspec_kw=gskw)\nlkw = dict(label=f'{ckey} [{units}]')\nfinaldf.plot('C', ax=axx[0], legend=True, legend_kwds=lkw)\ntprops = dict(\n    x=0.95, y=0.05, horizontalalignment='right', backgroundcolor='w'\n)\ntprops['transform'] = axx[0].transAxes\naxx[0].text(s='$\\\\overline{C^p}$ = ' f'{C_p:.2f}', **tprops)\nlkw = dict(label='Population [#]')\nfinaldf.plot('P', ax=axx[1], legend=True, legend_kwds=lkw)\ntprops['transform'] = axx[1].transAxes\naxx[1].text(s='$\\\\sum{P}$ = ' f'{P:.0f}', **tprops)\npycno.cno().drawstates(ax=axx)\nfig.suptitle(\n    '$M_i = f_a y_0 P_x F_x$ = '\n    + f'{f_pop:.2f} * {y0:.5f} * P$_x$ * '\n    + f'(1 - exp(-{beta:.6f} C$_x$)) = {M_i:.0f}'\n)\nfig.savefig(f'{ckey}_mortality.png')"
      ]
    }
  ],
  "metadata": {
    "kernelspec": {
      "display_name": "Python 3",
      "language": "python",
      "name": "python3"
    },
    "language_info": {
      "codemirror_mode": {
        "name": "ipython",
        "version": 3
      },
      "file_extension": ".py",
      "mimetype": "text/x-python",
      "name": "python",
      "nbconvert_exporter": "python",
      "pygments_lexer": "ipython3",
      "version": "3.12.8"
    }
  },
  "nbformat": 4,
  "nbformat_minor": 0
}