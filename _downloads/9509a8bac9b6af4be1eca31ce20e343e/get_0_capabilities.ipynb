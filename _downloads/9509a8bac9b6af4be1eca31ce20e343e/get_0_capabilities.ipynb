{
  "cells": [
    {
      "cell_type": "markdown",
      "metadata": {},
      "source": [
        "\n# Get List of Possible Coverages\n\nShows how to get a list of RSIG coverage that are available. The offline\nlist is a quick reference to commonly used coverages, use offlien=False for\na full list.\n"
      ]
    },
    {
      "cell_type": "code",
      "execution_count": null,
      "metadata": {
        "collapsed": false
      },
      "outputs": [],
      "source": [
        "# sphinx_gallery_thumbnail_path = '_static/getcapabilities.png'\n\nimport pyrsig\n\nrsigapi = pyrsig.RsigApi()\nkeys = rsigapi.keys()\nprint(len(keys), keys)\n# 3984 (..., 'airnow.pm25', ... 'aqs.ozone', ... 'cmaq.equates.conus.aconc.O3', ...\n#     'hms.smoke', 'metar.wind', ... 'pandora.ozone', 'purpleair.pm25_corrected', ...\n#     'tropomi.offl.no2.nitrogendioxide_tropospheric_column', ...\n#     'viirsnoaa.jrraod.AOD550', ...)\nkeys = rsigapi.keys(offline=False)  # slow the first time\nprint(len(keys))\n# 3875"
      ]
    }
  ],
  "metadata": {
    "kernelspec": {
      "display_name": "Python 3",
      "language": "python",
      "name": "python3"
    },
    "language_info": {
      "codemirror_mode": {
        "name": "ipython",
        "version": 3
      },
      "file_extension": ".py",
      "mimetype": "text/x-python",
      "name": "python",
      "nbconvert_exporter": "python",
      "pygments_lexer": "ipython3",
      "version": "3.12.8"
    }
  },
  "nbformat": 4,
  "nbformat_minor": 0
}