{
  "cells": [
    {
      "cell_type": "markdown",
      "metadata": {},
      "source": [
        "\n# Get DataFrame for AQS ozone\n\nShows how to get AQS observations as a Pandas DataFrame. Replace aqs.ozone\nwith airnow.ozone to get near-real-time data.\n"
      ]
    },
    {
      "cell_type": "code",
      "execution_count": null,
      "metadata": {
        "collapsed": false
      },
      "outputs": [],
      "source": [
        "import pyrsig\n\n# sphinx_gallery_thumbnail_path = '_static/aqsozone.png'\n\nrsigapi = pyrsig.RsigApi(bdate='2022-03-01')\nprint([k for k in rsigapi.keys() if 'ozone' in k])\n# ['airnow.ozone', 'airnow2.ozone', 'aqs.ozone', 'aqs.ozone_8hour_average', 'aqs.ozone_daily_8hour_maximum', 'pandora.ozone']\ndf = rsigapi.to_dataframe('aqs.ozone')\nprint(df.shape, *df.columns)\n# (26760, 6) Timestamp(UTC) LONGITUDE(deg) LATITUDE(deg) STATION(-) ozone(ppb) SITE_NAME"
      ]
    }
  ],
  "metadata": {
    "kernelspec": {
      "display_name": "Python 3",
      "language": "python",
      "name": "python3"
    },
    "language_info": {
      "codemirror_mode": {
        "name": "ipython",
        "version": 3
      },
      "file_extension": ".py",
      "mimetype": "text/x-python",
      "name": "python",
      "nbconvert_exporter": "python",
      "pygments_lexer": "ipython3",
      "version": "3.12.8"
    }
  },
  "nbformat": 4,
  "nbformat_minor": 0
}