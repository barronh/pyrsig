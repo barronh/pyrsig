{
  "cells": [
    {
      "cell_type": "markdown",
      "metadata": {},
      "source": [
        "\n# CMAQ vs Pandora\n\nTimeseries comparison of NO2 columns from CMAQ and Pandora over a small window\nover New York/New Jersey for 2018-07-01.\n"
      ]
    },
    {
      "cell_type": "code",
      "execution_count": null,
      "metadata": {
        "collapsed": false
      },
      "outputs": [],
      "source": [
        "import pyrsig\n\n\nbbox = (-74.5, 40., -73.5, 41)\ncmaqkey = 'cmaq.equates.conus.integrated.NO2_COLUMN'\ndatakey = 'pandora.L2_rnvs3p1_8.nitrogen_dioxide_vertical_column_amount'\n# Or use TropOMI or any other NO2 columns data\n# datakey = 'tropomi.offl.no2.nitrogendioxide_tropospheric_column'\n\n# Get a CMAQ file from RSIG\napi = pyrsig.RsigApi(\n    bbox=bbox, bdate='2018-07-01T12', edate='2018-07-01T23:59:59'\n)\nds = api.to_ioapi(cmaqkey)\n\n# pair_rsigcmaq will match the CMAQ bbox, bdate, and edate\ndf = pyrsig.cmaq.pair_rsigcmaq(ds, 'NO2_COLUMN', datakey)\n\npdf = df.groupby(['time']).mean(numeric_only=True)\nz1 = pdf['nitrogen_dioxide_vertical_column_amount']\nz2 = (pdf['CMAQ_NO2_COLUMN'] * 1e15)\nax = z1.plot(marker='+', linestyle='none', label='Pandora')\nax = z2.plot(ax=ax, color='green', label='CMAQ')\nax.legend()\nax.set(ylim=(0, None), ylabel='NO2 [molecules/cm2]', xlabel='Time [UTC]')\nax.figure.savefig('cmaq_pandora.png')"
      ]
    }
  ],
  "metadata": {
    "kernelspec": {
      "display_name": "Python 3",
      "language": "python",
      "name": "python3"
    },
    "language_info": {
      "codemirror_mode": {
        "name": "ipython",
        "version": 3
      },
      "file_extension": ".py",
      "mimetype": "text/x-python",
      "name": "python",
      "nbconvert_exporter": "python",
      "pygments_lexer": "ipython3",
      "version": "3.12.8"
    }
  },
  "nbformat": 4,
  "nbformat_minor": 0
}